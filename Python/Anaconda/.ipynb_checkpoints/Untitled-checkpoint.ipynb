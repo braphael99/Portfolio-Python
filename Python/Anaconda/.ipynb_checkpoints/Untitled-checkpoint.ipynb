{
 "cells": [
  {
   "cell_type": "code",
   "execution_count": null,
   "id": "00934a27",
   "metadata": {},
   "outputs": [],
   "source": [
    "listNum = [3, 2, 13]\n",
    "n = 3\n",
    "def minDiffPair(testlist):\n",
    "    n = len(testlist)\n",
    "    if(n <= 1):\n",
    "        return\n",
    "    if(n == 2):\n",
    "        return(testlist[0] - testlist[1])\n",
    "    diff1 = minDiffPair(testlist[0::int(n/2)])\n",
    "    diff2 = minDiffPair(testlist[int(n/2) + 1::n-1])\n",
    "    if diff1 <= diff2:\n",
    "        return diff1\n",
    "    else:\n",
    "        return diff2\n",
    "    \n",
    "retVal = minDiffPair(listNum)\n",
    "print(retVal)"
   ]
  },
  {
   "cell_type": "code",
   "execution_count": null,
   "id": "d1ac1587",
   "metadata": {},
   "outputs": [],
   "source": []
  }
 ],
 "metadata": {
  "kernelspec": {
   "display_name": "Python 3 (ipykernel)",
   "language": "python",
   "name": "python3"
  },
  "language_info": {
   "codemirror_mode": {
    "name": "ipython",
    "version": 3
   },
   "file_extension": ".py",
   "mimetype": "text/x-python",
   "name": "python",
   "nbconvert_exporter": "python",
   "pygments_lexer": "ipython3",
   "version": "3.9.13"
  }
 },
 "nbformat": 4,
 "nbformat_minor": 5
}
