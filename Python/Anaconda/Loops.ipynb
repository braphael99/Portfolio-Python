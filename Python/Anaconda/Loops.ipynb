{
 "cells": [
  {
   "cell_type": "markdown",
   "id": "e44a8c31",
   "metadata": {},
   "source": [
    "**Conditionals, If-Else, and Looping**\n",
    "\n",
    "Here are a few basic examples in Python showing how conditionals work and affect how your code runs.\n",
    "\n",
    "The first example we have is the classic if-else statement."
   ]
  },
  {
   "cell_type": "code",
   "execution_count": 2,
   "id": "fe2383fc",
   "metadata": {},
   "outputs": [
    {
     "name": "stdout",
     "output_type": "stream",
     "text": [
      "This is false\n"
     ]
    }
   ],
   "source": [
    "testVar = False\n",
    "\n",
    "if(testVar == True):\n",
    "    print(\"This is true\")\n",
    "else:\n",
    "    print(\"This is false\")"
   ]
  },
  {
   "cell_type": "markdown",
   "id": "94d2c5a7",
   "metadata": {},
   "source": [
    "**Loops**\n",
    "\n",
    "Building off of if-else statements, we can expand the usage of our conditional statements to iterate through a piece of code we want to have repeated.\n",
    "\n",
    "There are two different types of loops that are used most commonly: for-loops and while-loops.\n",
    "\n",
    "The following examples will show both, starting with the for-loop.\n",
    "\n",
    "**For-loops**\n",
    "\n",
    "For-loops are most commonly used when you have a known variable that will determine the amount of times the code-block within the loop will run. The amount of times the for-loop will run is typically determined when the loop is instantiated. "
   ]
  },
  {
   "cell_type": "code",
   "execution_count": 3,
   "id": "6d992422",
   "metadata": {},
   "outputs": [
    {
     "name": "stdout",
     "output_type": "stream",
     "text": [
      "0\n",
      "1\n",
      "2\n",
      "3\n",
      "4\n",
      "5\n",
      "6\n",
      "7\n",
      "8\n",
      "9\n"
     ]
    }
   ],
   "source": [
    "for(int i = 0; i++; i <=10){\n",
    "    print(i);\n",
    "}"
   ]
  },
  {
   "cell_type": "markdown",
   "id": "58cc6a35",
   "metadata": {},
   "source": [
    "**While-loops**\n",
    "\n",
    "While loops are different from for-loops based on the fact that the loop will run as long as a check-condition holds true. This type of loop is useful when you don't have a set number of iterations to run your code, but rather a condition that you are looking for your block of code to meet before you move on with the rest of your program."
   ]
  },
  {
   "cell_type": "code",
   "execution_count": 5,
   "id": "e4f51bd2",
   "metadata": {},
   "outputs": [
    {
     "name": "stdout",
     "output_type": "stream",
     "text": [
      "0\n",
      "2\n",
      "4\n",
      "6\n",
      "8\n"
     ]
    }
   ],
   "source": [
    "testInt = 0\n",
    "\n",
    "while testInt < 10:\n",
    "    print(testInt)\n",
    "    testInt += 2"
   ]
  },
  {
   "cell_type": "code",
   "execution_count": null,
   "id": "9a0533d4",
   "metadata": {},
   "outputs": [],
   "source": []
  }
 ],
 "metadata": {
  "kernelspec": {
   "display_name": "Python 3 (ipykernel)",
   "language": "python",
   "name": "python3"
  },
  "language_info": {
   "codemirror_mode": {
    "name": "ipython",
    "version": 3
   },
   "file_extension": ".py",
   "mimetype": "text/x-python",
   "name": "python",
   "nbconvert_exporter": "python",
   "pygments_lexer": "ipython3",
   "version": "3.9.13"
  }
 },
 "nbformat": 4,
 "nbformat_minor": 5
}
